{
 "cells": [
  {
   "cell_type": "code",
   "execution_count": 5,
   "id": "c9253343-a0d9-4f6e-95bb-89d1039dfb74",
   "metadata": {},
   "outputs": [],
   "source": [
    "#hello-hi-sir\n",
    "def hyphens(s):\n",
    "    alph=''\n",
    "    hyp=''\n",
    "    for i in s:     #h\n",
    "        if i=='-':\n",
    "            hyp=hyp+i\n",
    "        else:\n",
    "            alph=alph+i\n",
    "    return hyp+alph"
   ]
  },
  {
   "cell_type": "code",
   "execution_count": 6,
   "id": "57e56e51-4b20-4ecc-bbc1-5259088b5138",
   "metadata": {},
   "outputs": [
    {
     "data": {
      "text/plain": [
       "'--higoodmorning'"
      ]
     },
     "execution_count": 6,
     "metadata": {},
     "output_type": "execute_result"
    }
   ],
   "source": [
    "hyphens(\"hi-good-morning\")"
   ]
  },
  {
   "cell_type": "code",
   "execution_count": 9,
   "id": "7a278f01-188f-4491-91a2-0af8bee5f4da",
   "metadata": {},
   "outputs": [
    {
     "data": {
      "text/plain": [
       "'---goodday'"
      ]
     },
     "execution_count": 9,
     "metadata": {},
     "output_type": "execute_result"
    }
   ],
   "source": [
    "hyphens('go-od-da-y')"
   ]
  },
  {
   "cell_type": "code",
   "execution_count": 11,
   "id": "929fc996-77ed-44ed-a77f-89ae0a43e518",
   "metadata": {},
   "outputs": [
    {
     "name": "stdout",
     "output_type": "stream",
     "text": [
      "10\n"
     ]
    }
   ],
   "source": [
    "#convert the base\n",
    "n=12\n",
    "num=718\n",
    "rem=num%n\n",
    "print(rem)"
   ]
  },
  {
   "cell_type": "code",
   "execution_count": 12,
   "id": "9d5b6b7e-14c4-42a0-83b3-9dac01ea38df",
   "metadata": {},
   "outputs": [
    {
     "name": "stdout",
     "output_type": "stream",
     "text": [
      "12\n"
     ]
    }
   ],
   "source": [
    "n=59\n",
    "num=12\n",
    "rem=num%n\n",
    "print(rem)"
   ]
  },
  {
   "cell_type": "code",
   "execution_count": 21,
   "id": "4bf7cfbf-25fc-4a31-aaee-4b258a71f3b2",
   "metadata": {},
   "outputs": [],
   "source": [
    "def nbase(num,n): #718,12\n",
    "    remi=[]\n",
    "    while num!=0:\n",
    "        rem=num%n  #10  #11 #4\n",
    "        remi.append(rem)\n",
    "        num=num//n  #59 #4 #0\n",
    "    #conversion\n",
    "    result=''\n",
    "    for i in remi:\n",
    "        if i>9:\n",
    "            c=chr(i+55)  10+55=65  A\n",
    "            result=result+c  \n",
    "        else:\n",
    "            c=str(i)     11+55=66  B\n",
    "            result=result+c \n",
    "    return result[::-1]  #reverseans"
   ]
  },
  {
   "cell_type": "code",
   "execution_count": 22,
   "id": "de92804a-e481-4f8d-9208-6a1bd958db25",
   "metadata": {},
   "outputs": [
    {
     "data": {
      "text/plain": [
       "'4BA'"
      ]
     },
     "execution_count": 22,
     "metadata": {},
     "output_type": "execute_result"
    }
   ],
   "source": [
    "nbase(718,12)"
   ]
  },
  {
   "cell_type": "code",
   "execution_count": 52,
   "id": "5cf5168a-a5b7-4fca-b2c1-65f6dfa42321",
   "metadata": {},
   "outputs": [],
   "source": [
    "def nbase(num,n): #500,6\n",
    "    remi=[]\n",
    "    while num!=0:\n",
    "        rem=num%n  #2 #5 #1 #2\n",
    "        remi.append(rem)\n",
    "        num=num//n  #83 #13 #2 #0\n",
    "    #conversion\n",
    "    result=''\n",
    "    for i in remi:\n",
    "        if i>9:\n",
    "            c=chr(i+55)  \n",
    "            result=result+c  \n",
    "        else:\n",
    "            c=str(i)     \n",
    "            result=result+c \n",
    "    return result[::-1]  #reverseans"
   ]
  },
  {
   "cell_type": "code",
   "execution_count": 53,
   "id": "34d4d7e7-9c1f-4dff-a836-0a8687ab385a",
   "metadata": {},
   "outputs": [],
   "source": [
    "def passward(pwd):\n",
    "    if len(pwd)<4:\n",
    "        return 0\n",
    "    if pwd[0].isdigit():\n",
    "        return 0\n",
    "    cap=0\n",
    "    nu=0\n",
    "    for i in pwd:       #weAD90\n",
    "        if i.isupper():\n",
    "            cap=1\n",
    "        elif i.isdigit():\n",
    "            nu=1\n",
    "    if cap==1 and nu==1:\n",
    "        return 1\n",
    "    else:\n",
    "        return 0"
   ]
  },
  {
   "cell_type": "code",
   "execution_count": 33,
   "id": "b11414c0-e66e-44b6-a960-8d3fe951b32d",
   "metadata": {},
   "outputs": [
    {
     "data": {
      "text/plain": [
       "1"
      ]
     },
     "execution_count": 33,
     "metadata": {},
     "output_type": "execute_result"
    }
   ],
   "source": [
    "passward(\"wA6e\")"
   ]
  },
  {
   "cell_type": "markdown",
   "id": "b04c858a-83b1-472e-abc3-d85f0a990076",
   "metadata": {},
   "source": [
    "difference sum"
   ]
  },
  {
   "cell_type": "code",
   "execution_count": 48,
   "id": "08686496-826c-483d-9fef-f531a8fa40b4",
   "metadata": {},
   "outputs": [],
   "source": [
    "def difference(n,m):               #n=4, m=20  #mislimit\n",
    "    s=0\n",
    "    sn=0\n",
    "    for i in range(1,m+1):\n",
    "        if i%n==0:\n",
    "            s=s+i\n",
    "        else:\n",
    "            sn=sn+i\n",
    "    return abs(s-sn)"
   ]
  },
  {
   "cell_type": "code",
   "execution_count": 49,
   "id": "79f5f6c4-20a5-455a-bd56-a2d16e9f5e95",
   "metadata": {},
   "outputs": [
    {
     "data": {
      "text/plain": [
       "110"
      ]
     },
     "execution_count": 49,
     "metadata": {},
     "output_type": "execute_result"
    }
   ],
   "source": [
    "difference(5,20)"
   ]
  },
  {
   "cell_type": "code",
   "execution_count": 50,
   "id": "94605cda-dfa8-47cb-bc04-9fd66eba104d",
   "metadata": {},
   "outputs": [],
   "source": [
    "def difference(n,m):               #n=4, m=20  #mislimit\n",
    "    s=[]\n",
    "    sn=[]\n",
    "    for i in range(1,m+1):\n",
    "        if i%n==0:\n",
    "            s.append(i)\n",
    "            res=sum(s)\n",
    "        else:\n",
    "            sn.append(i)\n",
    "            re=sum(sn)\n",
    "    return abs(res-re)"
   ]
  },
  {
   "cell_type": "code",
   "execution_count": 53,
   "id": "ad357823-3f39-451e-8daa-2b051ff0d953",
   "metadata": {},
   "outputs": [
    {
     "data": {
      "text/plain": [
       "90"
      ]
     },
     "execution_count": 53,
     "metadata": {},
     "output_type": "execute_result"
    }
   ],
   "source": [
    "difference(4,20)"
   ]
  },
  {
   "cell_type": "code",
   "execution_count": 92,
   "id": "29dd7cfb-d475-44ed-b54f-7f1bc5860ae8",
   "metadata": {},
   "outputs": [
    {
     "name": "stdout",
     "output_type": "stream",
     "text": [
      "[4, 3, 2, 5]\n",
      "[1, 6, 11, 5]\n"
     ]
    }
   ],
   "source": [
    "arr=[4,1,3,6,2,11,5,5]\n",
    "n=len(arr)\n",
    "e=arr[0:n:2]\n",
    "o=arr[1:n:2]\n",
    "print(e)\n",
    "print(o)"
   ]
  },
  {
   "cell_type": "code",
   "execution_count": 93,
   "id": "4c30301e-d94c-4688-bf20-d93a0530581b",
   "metadata": {},
   "outputs": [
    {
     "name": "stdout",
     "output_type": "stream",
     "text": [
      "[2, 3, 4, 5]\n",
      "[1, 5, 6, 11]\n"
     ]
    }
   ],
   "source": [
    "s=sorted(e)\n",
    "p=sorted(o)\n",
    "print(s)\n",
    "print(p)"
   ]
  },
  {
   "cell_type": "code",
   "execution_count": 94,
   "id": "abe0d6db-4092-461b-b8d5-04ff4b9c256c",
   "metadata": {},
   "outputs": [
    {
     "name": "stdout",
     "output_type": "stream",
     "text": [
      "[2, 3, 4, 5]\n"
     ]
    }
   ],
   "source": [
    "s[::-1]\n",
    "print(s)"
   ]
  },
  {
   "cell_type": "code",
   "execution_count": 95,
   "id": "50660d27-0734-4334-a0cd-39eaf3ffc288",
   "metadata": {},
   "outputs": [
    {
     "name": "stdout",
     "output_type": "stream",
     "text": [
      "[1, 5, 6, 11]\n"
     ]
    }
   ],
   "source": [
    "p[::-1]\n",
    "print(p)"
   ]
  },
  {
   "cell_type": "code",
   "execution_count": 96,
   "id": "94036caf-070d-4b89-8fd6-0ddebc286431",
   "metadata": {},
   "outputs": [
    {
     "name": "stdout",
     "output_type": "stream",
     "text": [
      "8\n"
     ]
    }
   ],
   "source": [
    "print(s[1]+p[1])"
   ]
  },
  {
   "cell_type": "code",
   "execution_count": 97,
   "id": "e4a2a0c1-d3b2-4b74-82c7-865ff2a729d0",
   "metadata": {},
   "outputs": [
    {
     "name": "stdout",
     "output_type": "stream",
     "text": [
      "[4, 3, 2, 5]\n",
      "[1, 6, 11, 5]\n",
      "[2, 3, 4, 5]\n",
      "[1, 5, 6, 11]\n"
     ]
    }
   ],
   "source": [
    "arr=[4,1,3,6,2,11,5,5]\n",
    "n=len(arr)\n",
    "e=arr[0:n:2]\n",
    "o=arr[1:n:2]\n",
    "print(e)\n",
    "print(o)\n",
    "e.sort()\n",
    "print(e)\n",
    "o.sort()\n",
    "print(o)"
   ]
  },
  {
   "cell_type": "code",
   "execution_count": 98,
   "id": "2a6d3161-043d-462b-9a1d-6c141c3032c5",
   "metadata": {},
   "outputs": [
    {
     "data": {
      "text/plain": [
       "[5, 4, 3, 2]"
      ]
     },
     "execution_count": 98,
     "metadata": {},
     "output_type": "execute_result"
    }
   ],
   "source": [
    "s[::-1]"
   ]
  },
  {
   "cell_type": "code",
   "execution_count": 79,
   "id": "8d35c497-5e65-4c1f-bba5-cbbec4e1b802",
   "metadata": {},
   "outputs": [
    {
     "name": "stdout",
     "output_type": "stream",
     "text": [
      "8\n"
     ]
    }
   ],
   "source": [
    "print(s[1]+p[1])"
   ]
  },
  {
   "cell_type": "code",
   "execution_count": 85,
   "id": "7f70097f-2f63-4e33-80d1-f041ad6c4bc9",
   "metadata": {},
   "outputs": [],
   "source": [
    "def lss(arr):\n",
    "    n=len(arr)\n",
    "    e=arr[0:n:2]\n",
    "    o=arr[1:n:2]\n",
    "    e.sort(reverse = True)\n",
    "    o.sort()\n",
    "    return e[1]+o[1]"
   ]
  },
  {
   "cell_type": "code",
   "execution_count": 86,
   "id": "7f518ec9-3608-436a-91e7-061f45a7e2c1",
   "metadata": {},
   "outputs": [
    {
     "data": {
      "text/plain": [
       "9"
      ]
     },
     "execution_count": 86,
     "metadata": {},
     "output_type": "execute_result"
    }
   ],
   "source": [
    "lss([4,1,3,6,2,11,5,5])"
   ]
  },
  {
   "cell_type": "code",
   "execution_count": 18,
   "id": "7074a5fb-0752-433f-a847-a85904a141c0",
   "metadata": {},
   "outputs": [
    {
     "data": {
      "text/plain": [
       "0"
      ]
     },
     "execution_count": 18,
     "metadata": {},
     "output_type": "execute_result"
    }
   ],
   "source": [
    "def smaller(arr,s):\n",
    "    n=len(arr)\n",
    "    arr.sort()\n",
    "    if arr[0]+arr[1]<s:\n",
    "        return arr[0]*arr[1]\n",
    "    elif n<2:\n",
    "        return -1\n",
    "    else:\n",
    "        return 0\n",
    "smaller([4,1,3,7,8],3)\n",
    "    "
   ]
  },
  {
   "cell_type": "code",
   "execution_count": 19,
   "id": "08cddb04-b59c-46cc-a34a-93dc5fa04357",
   "metadata": {},
   "outputs": [
    {
     "data": {
      "text/plain": [
       "3"
      ]
     },
     "execution_count": 19,
     "metadata": {},
     "output_type": "execute_result"
    }
   ],
   "source": [
    "smaller([4,1,3,7,8],6)"
   ]
  },
  {
   "cell_type": "code",
   "execution_count": 31,
   "id": "548a6ddb-0f54-4475-80c6-3bbec2df508c",
   "metadata": {},
   "outputs": [],
   "source": [
    "def statement(arr,num,diff):\n",
    "    c=0\n",
    "    for i in arr:\n",
    "        if abs(i)-num<=diff:\n",
    "            c=c+1\n",
    "    return c\n",
    "    if c>=1:\n",
    "        return c\n",
    "    else:\n",
    "        return -1"
   ]
  },
  {
   "cell_type": "code",
   "execution_count": 37,
   "id": "2f2c816e-ee08-4f18-bbdf-c8779dfe1a98",
   "metadata": {},
   "outputs": [
    {
     "data": {
      "text/plain": [
       "2"
      ]
     },
     "execution_count": 37,
     "metadata": {},
     "output_type": "execute_result"
    }
   ],
   "source": [
    "statement([9,7,13,21,5],8,0)"
   ]
  },
  {
   "cell_type": "code",
   "execution_count": 40,
   "id": "2b35210e-4ae3-41a2-a4df-e40901912acc",
   "metadata": {},
   "outputs": [
    {
     "name": "stdout",
     "output_type": "stream",
     "text": [
      "False\n"
     ]
    }
   ],
   "source": [
    "#valid paranthesis\n",
    "dict1 ={ '(':')','[':']','{':'}'}\n",
    "i=')'\n",
    "print(i in dict1)\n"
   ]
  },
  {
   "cell_type": "code",
   "execution_count": 42,
   "id": "2eb6ffd9-c1aa-4a28-81e2-a1787b940068",
   "metadata": {},
   "outputs": [],
   "source": [
    "def valid(p):\n",
    "    dict1={ '(':')','[':']','{':'}'}\n",
    "    for i in p:\n",
    "        if i in dict1:\n",
    "            print(\"found\")\n",
    "        else:\n",
    "            print(\"not found\")"
   ]
  },
  {
   "cell_type": "code",
   "execution_count": 44,
   "id": "936ce0b4-4a79-476f-a876-f719e50caf1a",
   "metadata": {},
   "outputs": [
    {
     "name": "stdout",
     "output_type": "stream",
     "text": [
      "found\n",
      "found\n",
      "found\n",
      "not found\n",
      "not found\n",
      "not found\n"
     ]
    }
   ],
   "source": [
    "valid(\"([{}])\")"
   ]
  },
  {
   "cell_type": "code",
   "execution_count": 48,
   "id": "27f17a2b-fe00-458f-a32a-d8ad55dfa41b",
   "metadata": {},
   "outputs": [],
   "source": [
    "def valid(p):\n",
    "    dict1={ '(':')','[':']','{':'}'}\n",
    "    stack=[]\n",
    "    for i in p:\n",
    "        if i in dict1:\n",
    "            stack.append(dict1[i])\n",
    "        else:\n",
    "            if stack[-1]==i:\n",
    "                stack.pop()\n",
    "    if len(stack)==0:\n",
    "        return \"valid\"\n",
    "    else:\n",
    "        return\"in valid\""
   ]
  },
  {
   "cell_type": "code",
   "execution_count": 51,
   "id": "af40487e-9ae0-4417-b88a-eab2e6ea4def",
   "metadata": {},
   "outputs": [
    {
     "data": {
      "text/plain": [
       "'in valid'"
      ]
     },
     "execution_count": 51,
     "metadata": {},
     "output_type": "execute_result"
    }
   ],
   "source": [
    "valid(\"([{}])\")"
   ]
  },
  {
   "cell_type": "code",
   "execution_count": null,
   "id": "d40896e0-d50f-4866-885f-3ea85bc4a942",
   "metadata": {},
   "outputs": [],
   "source": []
  }
 ],
 "metadata": {
  "kernelspec": {
   "display_name": "Python 3 (ipykernel)",
   "language": "python",
   "name": "python3"
  },
  "language_info": {
   "codemirror_mode": {
    "name": "ipython",
    "version": 3
   },
   "file_extension": ".py",
   "mimetype": "text/x-python",
   "name": "python",
   "nbconvert_exporter": "python",
   "pygments_lexer": "ipython3",
   "version": "3.11.7"
  }
 },
 "nbformat": 4,
 "nbformat_minor": 5
}
