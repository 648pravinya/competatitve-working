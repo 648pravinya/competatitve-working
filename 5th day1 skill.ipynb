{
 "cells": [
  {
   "cell_type": "code",
   "execution_count": 5,
   "id": "59ec9a8c-d4b2-4c01-9a2a-7835b256bd61",
   "metadata": {},
   "outputs": [],
   "source": [
    "#with typecasting\n",
    "\n",
    "def rev(num):\n",
    "    r=str(num) #explict datatypecasting\n",
    "    return r[::-1]"
   ]
  },
  {
   "cell_type": "code",
   "execution_count": 6,
   "id": "74d43a95-6a4e-4470-8fb3-ef352a11c17c",
   "metadata": {},
   "outputs": [
    {
     "data": {
      "text/plain": [
       "'798'"
      ]
     },
     "execution_count": 6,
     "metadata": {},
     "output_type": "execute_result"
    }
   ],
   "source": [
    "rev(897)"
   ]
  },
  {
   "cell_type": "code",
   "execution_count": 1,
   "id": "2e71d235-df8c-4058-bf14-8699748f67ae",
   "metadata": {},
   "outputs": [],
   "source": [
    "#without typecasting\n",
    "\n",
    "def reverse(num):  #912\n",
    "    result = 0\n",
    "    while num!=0:                #912!=0\n",
    "        rem = num%10\n",
    "        result=result*10+rem\n",
    "        num=num//10\n",
    "    return result\n"
   ]
  },
  {
   "cell_type": "code",
   "execution_count": 2,
   "id": "9aba1983-c77a-4cdc-9ab4-1dcd5f226783",
   "metadata": {},
   "outputs": [
    {
     "data": {
      "text/plain": [
       "765"
      ]
     },
     "execution_count": 2,
     "metadata": {},
     "output_type": "execute_result"
    }
   ],
   "source": [
    "reverse(567)"
   ]
  },
  {
   "cell_type": "code",
   "execution_count": 9,
   "id": "a70190b7-3177-42b4-91d8-a989ee0ec03f",
   "metadata": {},
   "outputs": [],
   "source": [
    "def palindrome(num):\n",
    "    result =1\n",
    "    while num!=0:                \n",
    "        rem = num%10\n",
    "        result=result*10+rem\n",
    "        num=num//10\n",
    "    return result\n"
   ]
  },
  {
   "cell_type": "code",
   "execution_count": 10,
   "id": "2a81e4d9-1b62-4eea-8f61-be8c27518778",
   "metadata": {},
   "outputs": [
    {
     "data": {
      "text/plain": [
       "169521"
      ]
     },
     "execution_count": 10,
     "metadata": {},
     "output_type": "execute_result"
    }
   ],
   "source": [
    "palindrome(12596)"
   ]
  },
  {
   "cell_type": "code",
   "execution_count": 13,
   "id": "87f47a63-b84c-44f5-b4ea-b1ce7c33e9dd",
   "metadata": {},
   "outputs": [],
   "source": [
    "def palindrome(num):\n",
    "    N=num\n",
    "    rev=0\n",
    "    while N!=0:\n",
    "        rem=N%10\n",
    "        rev=rev*10+rem\n",
    "        N=N//10\n",
    "    return num==rev"
   ]
  },
  {
   "cell_type": "code",
   "execution_count": 14,
   "id": "871fdd59-a0f1-496a-b48d-08bc3bd7dac5",
   "metadata": {},
   "outputs": [
    {
     "data": {
      "text/plain": [
       "False"
      ]
     },
     "execution_count": 14,
     "metadata": {},
     "output_type": "execute_result"
    }
   ],
   "source": [
    "palindrome(126)"
   ]
  },
  {
   "cell_type": "code",
   "execution_count": null,
   "id": "3e7c1162-777a-4cec-a51a-a7100a081bbd",
   "metadata": {},
   "outputs": [],
   "source": []
  }
 ],
 "metadata": {
  "kernelspec": {
   "display_name": "Python 3 (ipykernel)",
   "language": "python",
   "name": "python3"
  },
  "language_info": {
   "codemirror_mode": {
    "name": "ipython",
    "version": 3
   },
   "file_extension": ".py",
   "mimetype": "text/x-python",
   "name": "python",
   "nbconvert_exporter": "python",
   "pygments_lexer": "ipython3",
   "version": "3.11.7"
  }
 },
 "nbformat": 4,
 "nbformat_minor": 5
}
